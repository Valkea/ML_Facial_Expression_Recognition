{
 "cells": [
  {
   "cell_type": "markdown",
   "metadata": {},
   "source": [
    "# Facial Expression Recognition (FER)\n",
    "\n",
    "This project is the Capstone project for the ML-bookcamp (with Alexey Grigorev).\n",
    "\n",
    "The dataset come from an old Kaggle competition:\n",
    "- Dataset: https://www.kaggle.com/c/challenges-in-representation-learning-facial-expression-recognition-challenge/data\n",
    "\n",
    "The tried CCN architectures come from variours sources (either papers or githibs):\n",
    "\n",
    "- CNN architecture 1: https://www.researchgate.net/publication/351056923_Facial_Expression_Recognition_Using_CNN_with_Keras\n",
    "- CNN architecture 2: https://github.com/gitshanks/fer2013\n",
    "- CNN architecture 3: https://github.com/amirhossein-hkh/facial-expression-recognition\n",
    "\n",
    "**Note**: I used these architectures and obviously read some parts of these resources, but I tried to work by myself as much as possible.\n",
    "\n",
    "Also, I asked Alexey about \"Cheating and plagiarism\" regarding the CNN architectures from these source here:\n",
    "- https://datatalks-club.slack.com/archives/C0288NJ5XSA/p1638880791240000\n",
    "\n",
    "\n",
    "---"
   ]
  },
  {
   "cell_type": "code",
   "execution_count": 1,
   "metadata": {},
   "outputs": [],
   "source": [
    "import numpy as np\n",
    "import matplotlib.pyplot as plt\n",
    "import pandas as pd\n",
    "import seaborn as sns\n",
    "\n",
    "import tensorflow as tf\n",
    "from tensorflow import keras"
   ]
  },
  {
   "cell_type": "markdown",
   "metadata": {},
   "source": [
    "#### Seed for reproductibility\n",
    "\n",
    "Does't seem very useful"
   ]
  },
  {
   "cell_type": "code",
   "execution_count": 2,
   "metadata": {},
   "outputs": [],
   "source": [
    "np.random.seed(1)\n",
    "tf.random.set_seed(2)"
   ]
  },
  {
   "cell_type": "markdown",
   "metadata": {},
   "source": [
    "# 1. Load & explore data <a class=\"anchor\" id=\"P01\"></a>"
   ]
  },
  {
   "cell_type": "code",
   "execution_count": 3,
   "metadata": {},
   "outputs": [],
   "source": [
    "data = pd.read_csv('data/fer2013.csv')"
   ]
  },
  {
   "cell_type": "code",
   "execution_count": 4,
   "metadata": {},
   "outputs": [
    {
     "data": {
      "text/html": [
       "<div>\n",
       "<style scoped>\n",
       "    .dataframe tbody tr th:only-of-type {\n",
       "        vertical-align: middle;\n",
       "    }\n",
       "\n",
       "    .dataframe tbody tr th {\n",
       "        vertical-align: top;\n",
       "    }\n",
       "\n",
       "    .dataframe thead th {\n",
       "        text-align: right;\n",
       "    }\n",
       "</style>\n",
       "<table border=\"1\" class=\"dataframe\">\n",
       "  <thead>\n",
       "    <tr style=\"text-align: right;\">\n",
       "      <th></th>\n",
       "      <th>emotion</th>\n",
       "      <th>pixels</th>\n",
       "      <th>Usage</th>\n",
       "    </tr>\n",
       "  </thead>\n",
       "  <tbody>\n",
       "    <tr>\n",
       "      <th>0</th>\n",
       "      <td>0</td>\n",
       "      <td>70 80 82 72 58 58 60 63 54 58 60 48 89 115 121...</td>\n",
       "      <td>Training</td>\n",
       "    </tr>\n",
       "    <tr>\n",
       "      <th>1</th>\n",
       "      <td>0</td>\n",
       "      <td>151 150 147 155 148 133 111 140 170 174 182 15...</td>\n",
       "      <td>Training</td>\n",
       "    </tr>\n",
       "    <tr>\n",
       "      <th>2</th>\n",
       "      <td>2</td>\n",
       "      <td>231 212 156 164 174 138 161 173 182 200 106 38...</td>\n",
       "      <td>Training</td>\n",
       "    </tr>\n",
       "    <tr>\n",
       "      <th>3</th>\n",
       "      <td>4</td>\n",
       "      <td>24 32 36 30 32 23 19 20 30 41 21 22 32 34 21 1...</td>\n",
       "      <td>Training</td>\n",
       "    </tr>\n",
       "    <tr>\n",
       "      <th>4</th>\n",
       "      <td>6</td>\n",
       "      <td>4 0 0 0 0 0 0 0 0 0 0 0 3 15 23 28 48 50 58 84...</td>\n",
       "      <td>Training</td>\n",
       "    </tr>\n",
       "  </tbody>\n",
       "</table>\n",
       "</div>"
      ],
      "text/plain": [
       "   emotion                                             pixels     Usage\n",
       "0        0  70 80 82 72 58 58 60 63 54 58 60 48 89 115 121...  Training\n",
       "1        0  151 150 147 155 148 133 111 140 170 174 182 15...  Training\n",
       "2        2  231 212 156 164 174 138 161 173 182 200 106 38...  Training\n",
       "3        4  24 32 36 30 32 23 19 20 30 41 21 22 32 34 21 1...  Training\n",
       "4        6  4 0 0 0 0 0 0 0 0 0 0 0 3 15 23 28 48 50 58 84...  Training"
      ]
     },
     "execution_count": 4,
     "metadata": {},
     "output_type": "execute_result"
    }
   ],
   "source": [
    "data.head(5)"
   ]
  },
  {
   "cell_type": "markdown",
   "metadata": {},
   "source": [
    "### Rename the columns <a class=\"anchor\" id=\"P0_rename_columns\"></a>"
   ]
  },
  {
   "cell_type": "code",
   "execution_count": 5,
   "metadata": {},
   "outputs": [],
   "source": [
    "data.columns = data.columns.str.replace(' ', '_').str.lower()"
   ]
  },
  {
   "cell_type": "markdown",
   "metadata": {},
   "source": [
    "> This is not very useful in this project, but it's a good habit..."
   ]
  },
  {
   "cell_type": "markdown",
   "metadata": {},
   "source": [
    "### Check the columns names & types <a class=\"anchor\" id=\"P0_check_types\"></a>"
   ]
  },
  {
   "cell_type": "code",
   "execution_count": 6,
   "metadata": {},
   "outputs": [
    {
     "name": "stdout",
     "output_type": "stream",
     "text": [
      "<class 'pandas.core.frame.DataFrame'>\n",
      "RangeIndex: 35887 entries, 0 to 35886\n",
      "Data columns (total 3 columns):\n",
      " #   Column   Non-Null Count  Dtype \n",
      "---  ------   --------------  ----- \n",
      " 0   emotion  35887 non-null  int64 \n",
      " 1   pixels   35887 non-null  object\n",
      " 2   usage    35887 non-null  object\n",
      "dtypes: int64(1), object(2)\n",
      "memory usage: 841.2+ KB\n"
     ]
    }
   ],
   "source": [
    "data.info()"
   ]
  },
  {
   "cell_type": "markdown",
   "metadata": {},
   "source": [
    "> The `target` values are int64\n",
    ">\n",
    "> **/!\\** The `input` feature is an object and hence it needs to be converted / processed"
   ]
  },
  {
   "cell_type": "markdown",
   "metadata": {},
   "source": [
    "#### Convert `pixels` input `strings` to `arrays`\n",
    "/!\\ The process takes a lot of ressources, it may slow down your computer."
   ]
  },
  {
   "cell_type": "raw",
   "metadata": {},
   "source": [
    "test_data = data[:100]\n",
    "test_data2 = test_data['pixels'].str.split(\" \")\n",
    "test_data2 = test_data2.map(lambda x: np.array(x).reshape(48,48))\n",
    "type(test_data2[0]), test_data2[0].shape"
   ]
  },
  {
   "cell_type": "raw",
   "metadata": {},
   "source": [
    "data['pixels'] = data['pixels'].str.split(\" \")\n",
    "data['pixels'] = data['pixels'].map(lambda x: np.array(x, dtype=np.uint8))\n",
    "# data['pixels'] = data['pixels'].map(lambda x: x/255)\n",
    "data['pixels_matrix'] = data['pixels'].map(lambda x: x.reshape(48,48))"
   ]
  },
  {
   "cell_type": "code",
   "execution_count": 7,
   "metadata": {},
   "outputs": [],
   "source": [
    "img_array = data['pixels'].apply(lambda x: np.array(x.split(' ')).reshape(48, 48, 1).astype('float32'))\n",
    "img_array = np.stack(img_array, axis=0)"
   ]
  },
  {
   "cell_type": "code",
   "execution_count": 8,
   "metadata": {},
   "outputs": [],
   "source": [
    "from sklearn.preprocessing import LabelEncoder\n",
    "from keras.utils import np_utils"
   ]
  },
  {
   "cell_type": "code",
   "execution_count": 9,
   "metadata": {},
   "outputs": [
    {
     "data": {
      "text/plain": [
       "(35887, 7)"
      ]
     },
     "execution_count": 9,
     "metadata": {},
     "output_type": "execute_result"
    }
   ],
   "source": [
    "le = LabelEncoder()\n",
    "img_labels = le.fit_transform(data['emotion'])\n",
    "img_labels = np_utils.to_categorical(img_labels)\n",
    "img_labels.shape"
   ]
  },
  {
   "cell_type": "raw",
   "metadata": {},
   "source": [
    "target = data['emotion']"
   ]
  },
  {
   "cell_type": "markdown",
   "metadata": {},
   "source": [
    "#### Display some images"
   ]
  },
  {
   "cell_type": "code",
   "execution_count": 10,
   "metadata": {},
   "outputs": [],
   "source": [
    "emotion_names = {\n",
    "    0:'Angry',\n",
    "    1:'Disgust',\n",
    "    2:'Fear',\n",
    "    3:'Happy',\n",
    "    4:'Sad',\n",
    "    5:'Surprise',\n",
    "    6:'Neutral',\n",
    "}"
   ]
  },
  {
   "cell_type": "code",
   "execution_count": 11,
   "metadata": {
    "scrolled": false
   },
   "outputs": [
    {
     "data": {
      "image/png": "[encoded data removed]",
      "text/plain": [
       "<Figure size 1080x720 with 15 Axes>"
      ]
     },
     "metadata": {
      "needs_background": "light"
     },
     "output_type": "display_data"
    }
   ],
   "source": [
    "fig = plt.figure(figsize=(15,10))\n",
    "for i in range(15):\n",
    "    plt.subplot(3,5,i+1)\n",
    "    plt.imshow(img_array[i], cmap='gray', vmin=0, vmax=255)\n",
    "    plt.title(emotion_names[data['emotion'][i]])\n",
    "    plt.axis('off')\n",
    "    \n",
    "plt.show()"
   ]
  },
  {
   "cell_type": "markdown",
   "metadata": {},
   "source": [
    "### Check the ranges of values <a class=\"anchor\" id=\"P0_check_range\"></a>"
   ]
  },
  {
   "cell_type": "code",
   "execution_count": 12,
   "metadata": {
    "scrolled": true
   },
   "outputs": [
    {
     "data": {
      "text/html": [
       "<div>\n",
       "<style scoped>\n",
       "    .dataframe tbody tr th:only-of-type {\n",
       "        vertical-align: middle;\n",
       "    }\n",
       "\n",
       "    .dataframe tbody tr th {\n",
       "        vertical-align: top;\n",
       "    }\n",
       "\n",
       "    .dataframe thead th {\n",
       "        text-align: right;\n",
       "    }\n",
       "</style>\n",
       "<table border=\"1\" class=\"dataframe\">\n",
       "  <thead>\n",
       "    <tr style=\"text-align: right;\">\n",
       "      <th></th>\n",
       "      <th>emotion</th>\n",
       "    </tr>\n",
       "  </thead>\n",
       "  <tbody>\n",
       "    <tr>\n",
       "      <th>count</th>\n",
       "      <td>35887.000000</td>\n",
       "    </tr>\n",
       "    <tr>\n",
       "      <th>mean</th>\n",
       "      <td>3.323265</td>\n",
       "    </tr>\n",
       "    <tr>\n",
       "      <th>std</th>\n",
       "      <td>1.873819</td>\n",
       "    </tr>\n",
       "    <tr>\n",
       "      <th>min</th>\n",
       "      <td>0.000000</td>\n",
       "    </tr>\n",
       "    <tr>\n",
       "      <th>25%</th>\n",
       "      <td>2.000000</td>\n",
       "    </tr>\n",
       "    <tr>\n",
       "      <th>50%</th>\n",
       "      <td>3.000000</td>\n",
       "    </tr>\n",
       "    <tr>\n",
       "      <th>75%</th>\n",
       "      <td>5.000000</td>\n",
       "    </tr>\n",
       "    <tr>\n",
       "      <th>max</th>\n",
       "      <td>6.000000</td>\n",
       "    </tr>\n",
       "  </tbody>\n",
       "</table>\n",
       "</div>"
      ],
      "text/plain": [
       "            emotion\n",
       "count  35887.000000\n",
       "mean       3.323265\n",
       "std        1.873819\n",
       "min        0.000000\n",
       "25%        2.000000\n",
       "50%        3.000000\n",
       "75%        5.000000\n",
       "max        6.000000"
      ]
     },
     "execution_count": 12,
     "metadata": {},
     "output_type": "execute_result"
    }
   ],
   "source": [
    "data.describe() # I usually use includes='all' but its very slow with the pixels arrays"
   ]
  },
  {
   "cell_type": "markdown",
   "metadata": {},
   "source": [
    "### Check the missing values <a class=\"anchor\" id=\"P0_missing_values\"></a>"
   ]
  },
  {
   "cell_type": "code",
   "execution_count": 13,
   "metadata": {},
   "outputs": [
    {
     "data": {
      "text/plain": [
       "emotion    0\n",
       "pixels     0\n",
       "usage      0\n",
       "dtype: int64"
      ]
     },
     "execution_count": 13,
     "metadata": {},
     "output_type": "execute_result"
    }
   ],
   "source": [
    "data.isnull().sum()"
   ]
  },
  {
   "cell_type": "markdown",
   "metadata": {},
   "source": [
    "> There is no missing values, so we don't need to drop or infer rows"
   ]
  },
  {
   "cell_type": "markdown",
   "metadata": {},
   "source": [
    "### Check the usage repartition <a class=\"anchor\" id=\"P0_check_usage\"></a>"
   ]
  },
  {
   "cell_type": "code",
   "execution_count": 14,
   "metadata": {},
   "outputs": [
    {
     "data": {
      "image/png": "[encoded data removed]",
      "text/plain": [
       "<Figure size 1080x360 with 2 Axes>"
      ]
     },
     "metadata": {
      "needs_background": "light"
     },
     "output_type": "display_data"
    },
    {
     "data": {
      "text/plain": [
       "Training       28709\n",
       "PublicTest      3589\n",
       "PrivateTest     3589\n",
       "Name: usage, dtype: int64"
      ]
     },
     "execution_count": 14,
     "metadata": {},
     "output_type": "execute_result"
    }
   ],
   "source": [
    "fig = plt.figure(figsize=[15,5])\n",
    "\n",
    "plt.subplot(1,2,1)\n",
    "check = data['usage'].value_counts()\n",
    "plt.pie(list(check), labels=check.keys())\n",
    "\n",
    "plt.subplot(1,2,2)\n",
    "sns.histplot(data['usage'])\n",
    "\n",
    "plt.show()\n",
    "check"
   ]
  },
  {
   "cell_type": "code",
   "execution_count": 15,
   "metadata": {},
   "outputs": [
    {
     "name": "stdout",
     "output_type": "stream",
     "text": [
      "Training has 80.00% of the total inputs (28709/35887)\n",
      "PublicTest has 10.00% of the total inputs (3589/35887)\n",
      "PrivateTest has 10.00% of the total inputs (3589/35887)\n"
     ]
    }
   ],
   "source": [
    "total_size = data['usage'].count()\n",
    "for i, v in enumerate(data['usage'].unique()):\n",
    "    set_size = data['usage'].value_counts()[i]\n",
    "    percent = set_size/(total_size/100.0)\n",
    "    print(f\"{v} has {percent:0.2F}% of the total inputs ({set_size}/{total_size})\")"
   ]
  },
  {
   "cell_type": "markdown",
   "metadata": {},
   "source": [
    "> The `Training` part can be used as `Training set`\n",
    ">\n",
    "> The `PublicTest` part can be used as `Validation set`\n",
    ">\n",
    "> The `PrivateTest` part can be used as `Test set`"
   ]
  },
  {
   "cell_type": "markdown",
   "metadata": {},
   "source": [
    "### Check the target variable <a class=\"anchor\" id=\"P0_target_variable\"></a>"
   ]
  },
  {
   "cell_type": "raw",
   "metadata": {},
   "source": [
    "for x in zip(data['emotion'],data['emotion'].map(emotion_names)):\n",
    "    print(x)"
   ]
  },
  {
   "cell_type": "code",
   "execution_count": 16,
   "metadata": {},
   "outputs": [
    {
     "data": {
      "text/plain": [
       "count    35887.000000\n",
       "mean         3.323265\n",
       "std          1.873819\n",
       "min          0.000000\n",
       "25%          2.000000\n",
       "50%          3.000000\n",
       "75%          5.000000\n",
       "max          6.000000\n",
       "Name: emotion, dtype: float64"
      ]
     },
     "execution_count": 16,
     "metadata": {},
     "output_type": "execute_result"
    }
   ],
   "source": [
    "data['emotion'].describe()"
   ]
  },
  {
   "cell_type": "code",
   "execution_count": 17,
   "metadata": {},
   "outputs": [
    {
     "data": {
      "image/png": "[encoded data removed]",
      "text/plain": [
       "<Figure size 1080x360 with 2 Axes>"
      ]
     },
     "metadata": {
      "needs_background": "light"
     },
     "output_type": "display_data"
    },
    {
     "name": "stdout",
     "output_type": "stream",
     "text": [
      "(3) Happy \t=> 8989\n",
      "(6) Neutral \t=> 6198\n",
      "(4) Sad \t=> 6077\n",
      "(2) Fear \t=> 5121\n",
      "(0) Angry \t=> 4953\n",
      "(5) Surprise \t=> 4002\n",
      "(1) Disgust \t=> 547\n"
     ]
    }
   ],
   "source": [
    "fig = plt.figure(figsize=[15,5])\n",
    "\n",
    "plt.subplot(1,2,1)\n",
    "check = data['emotion'].value_counts()\n",
    "plt.pie(list(check), labels=check.keys().map(emotion_names))\n",
    "\n",
    "plt.subplot(1,2,2)\n",
    "sns.histplot(data['emotion'].map(emotion_names))\n",
    "\n",
    "plt.show()\n",
    "\n",
    "for i, n, v in zip(check.keys(),check.keys().map(emotion_names), check.values):\n",
    "    print(f\"({i}) {n} \\t=> {v}\")"
   ]
  },
  {
   "cell_type": "markdown",
   "metadata": {},
   "source": [
    "> The `Disgust` value seem under-represented. The dataset is clearly imbalanced.\n",
    ">\n",
    "> So we will need to use an appropriate solution *(use upsampling and downsampling techniques)* or metric.<br>\n",
    "> However there is no longtail to consider as the values are restricted to 10\n",
    ">\n",
    "> **/!\\ Should we remove this expression** in order to improve the result on the other expressions?"
   ]
  },
  {
   "cell_type": "markdown",
   "metadata": {},
   "source": [
    "# 2. Feature selection <a class=\"anchor\" id=\"P02\"></a>"
   ]
  },
  {
   "cell_type": "markdown",
   "metadata": {},
   "source": [
    "> On this project, we don't really feature selection...\n",
    ">\n",
    "> There is only two input features, `pixels` and `usage`.\n",
    "> - The `usage` column will be used to split the dataset, then it will be removed.\n",
    "> - The `pixels` column will be used to train the CNN"
   ]
  },
  {
   "cell_type": "markdown",
   "metadata": {},
   "source": [
    "# 3. Split the dataset <a class=\"anchor\" id=\"P03\"></a>\n",
    "\n",
    "As seen above, the `usage` column can be used to split the dataset instead of using the train_test_split function from sklearn."
   ]
  },
  {
   "cell_type": "code",
   "execution_count": 18,
   "metadata": {},
   "outputs": [],
   "source": [
    "from sklearn.model_selection import train_test_split"
   ]
  },
  {
   "cell_type": "code",
   "execution_count": 19,
   "metadata": {},
   "outputs": [],
   "source": [
    "X_train_full, X_test, y_train_full, y_test = train_test_split(img_array, img_labels, test_size=0.2, random_state=42)\n",
    "X_train, X_valid, y_train, y_valid = train_test_split(X_train_full, y_train_full, test_size=X_test.shape[0], random_state=42)"
   ]
  },
  {
   "cell_type": "code",
   "execution_count": 20,
   "metadata": {},
   "outputs": [
    {
     "data": {
      "text/plain": [
       "((21531, 48, 48, 1), (7178, 48, 48, 1), (21531, 7), (7178, 7))"
      ]
     },
     "execution_count": 20,
     "metadata": {},
     "output_type": "execute_result"
    }
   ],
   "source": [
    "X_train.shape, X_valid.shape, y_train.shape, y_valid.shape"
   ]
  },
  {
   "cell_type": "code",
   "execution_count": 21,
   "metadata": {},
   "outputs": [],
   "source": [
    "assert(X_valid.shape[0] == X_test.shape[0])"
   ]
  },
  {
   "cell_type": "code",
   "execution_count": 22,
   "metadata": {},
   "outputs": [],
   "source": [
    "assert(img_array.shape[0] == X_train.shape[0] + X_valid.shape[0] + X_test.shape[0])"
   ]
  },
  {
   "cell_type": "code",
   "execution_count": 23,
   "metadata": {},
   "outputs": [],
   "source": [
    "img_width = X_train.shape[1]\n",
    "img_height = X_train.shape[2]\n",
    "img_depth = X_train.shape[3]\n",
    "#num_classes = y_train.shape[1]"
   ]
  },
  {
   "cell_type": "code",
   "execution_count": 24,
   "metadata": {},
   "outputs": [
    {
     "data": {
      "text/plain": [
       "(48, 48, 1)"
      ]
     },
     "execution_count": 24,
     "metadata": {},
     "output_type": "execute_result"
    }
   ],
   "source": [
    "img_width, img_height, img_depth#, num_classes"
   ]
  },
  {
   "cell_type": "markdown",
   "metadata": {},
   "source": [
    "#### Normalizing results, as neural networks are very sensitive to unnormalized data."
   ]
  },
  {
   "cell_type": "code",
   "execution_count": 25,
   "metadata": {},
   "outputs": [],
   "source": [
    "#X_train = X_train / 255.\n",
    "#X_valid = X_valid / 255."
   ]
  },
  {
   "cell_type": "markdown",
   "metadata": {},
   "source": [
    "#### Split between `train`, `valid` and `test` sets"
   ]
  },
  {
   "cell_type": "raw",
   "metadata": {},
   "source": [
    "data_train = data[data['usage'] == 'Training']\n",
    "data_valid = data[data['usage'] == 'PublicTest']\n",
    "data_test = data[data['usage'] == 'PrivateTest']\n",
    "\n",
    "data_train.shape, data_valid.shape, data_test.shape"
   ]
  },
  {
   "cell_type": "markdown",
   "metadata": {},
   "source": [
    "#### Remove `usage` columns"
   ]
  },
  {
   "cell_type": "raw",
   "metadata": {},
   "source": [
    "data_train = data_train.drop('usage', axis='columns')\n",
    "data_valid = data_valid.drop('usage', axis='columns')\n",
    "data_test = data_test.drop('usage', axis='columns')"
   ]
  },
  {
   "cell_type": "markdown",
   "metadata": {},
   "source": [
    "#### Define input sets `X`"
   ]
  },
  {
   "cell_type": "raw",
   "metadata": {},
   "source": [
    "X_train = data_train['pixels']\n",
    "X_valid = data_valid['pixels']\n",
    "X_test = data_test['pixels']\n",
    "#Xm_train = data_train['pixels_matrix']\n",
    "#Xm_valid = data_valid['pixels_matrix']\n",
    "#Xm_test = data_test['pixels_matrix']\n",
    "\n",
    "X_train.shape, X_valid.shape, X_test.shape"
   ]
  },
  {
   "cell_type": "markdown",
   "metadata": {},
   "source": [
    "#### Define target sets `y`"
   ]
  },
  {
   "cell_type": "raw",
   "metadata": {},
   "source": [
    "y_train = data_train['emotion']\n",
    "y_valid = data_valid['emotion']\n",
    "y_test = data_test['emotion']\n",
    "\n",
    "y_train.shape, y_valid.shape, y_test.shape"
   ]
  },
  {
   "cell_type": "raw",
   "metadata": {},
   "source": [
    "type(X_train)"
   ]
  },
  {
   "cell_type": "raw",
   "metadata": {},
   "source": [
    "X_train[0]"
   ]
  },
  {
   "cell_type": "raw",
   "metadata": {},
   "source": [
    "#Xz_train= np.asarray(X_train).astype(int)\n",
    "Xz_train= X_train.map(lambda x: x.astype(int))\n",
    "#xxx = np.vectorize(lambda x: np.int(x))\n",
    "#Xz_train = xxx(X_train)\n",
    "\n",
    "yz_train=np.asarray(y_train).astype(int)"
   ]
  },
  {
   "cell_type": "markdown",
   "metadata": {},
   "source": [
    "# 4. Prepare generators"
   ]
  },
  {
   "cell_type": "code",
   "execution_count": 26,
   "metadata": {},
   "outputs": [],
   "source": [
    "from keras.preprocessing.image import ImageDataGenerator"
   ]
  },
  {
   "cell_type": "markdown",
   "metadata": {},
   "source": [
    "Define an instance of the ImageDataGenerator that will scale the pixel values to the range of 0-1."
   ]
  },
  {
   "cell_type": "code",
   "execution_count": 27,
   "metadata": {},
   "outputs": [
    {
     "data": {
      "text/plain": [
       "<keras.preprocessing.image.ImageDataGenerator at 0x7f34310cb6a0>"
      ]
     },
     "execution_count": 27,
     "metadata": {},
     "output_type": "execute_result"
    }
   ],
   "source": [
    "train_datagen = ImageDataGenerator(rescale=1./255) # , preprocessing_function=None\n",
    "#train_datagen.fit(X_train)\n",
    "train_datagen"
   ]
  },
  {
   "cell_type": "code",
   "execution_count": 28,
   "metadata": {},
   "outputs": [
    {
     "data": {
      "text/plain": [
       "<keras.preprocessing.image.ImageDataGenerator at 0x7f34310b3d90>"
      ]
     },
     "execution_count": 28,
     "metadata": {},
     "output_type": "execute_result"
    }
   ],
   "source": [
    "valid_datagen = ImageDataGenerator(rescale=1./255) # , preprocessing_function=None\n",
    "#valid_datagen.fit(X_train)\n",
    "valid_datagen"
   ]
  },
  {
   "cell_type": "code",
   "execution_count": 29,
   "metadata": {},
   "outputs": [],
   "source": [
    "img_size=48\n",
    "batch_size=20\n",
    "epochs=10"
   ]
  },
  {
   "cell_type": "raw",
   "metadata": {},
   "source": [
    "X_train.shape, X_train.ndim"
   ]
  },
  {
   "cell_type": "raw",
   "metadata": {},
   "source": [
    "type(X_train[0]), X_train[0].ndim, X_train[0].shape"
   ]
  },
  {
   "cell_type": "raw",
   "metadata": {},
   "source": [
    "X_train[0]"
   ]
  },
  {
   "cell_type": "raw",
   "metadata": {},
   "source": [
    "X_train"
   ]
  },
  {
   "cell_type": "code",
   "execution_count": 30,
   "metadata": {},
   "outputs": [],
   "source": [
    "train_ds = train_datagen.flow(\n",
    "    x=X_train,\n",
    "    y=y_train,\n",
    "    batch_size=32,\n",
    "    shuffle=True,\n",
    ")"
   ]
  },
  {
   "cell_type": "code",
   "execution_count": 31,
   "metadata": {},
   "outputs": [],
   "source": [
    "valid_ds = valid_datagen.flow( ## train_datagen ?\n",
    "    x=X_valid,\n",
    "    y=y_valid,\n",
    "    batch_size=32,\n",
    "    shuffle=True,\n",
    ")"
   ]
  },
  {
   "cell_type": "markdown",
   "metadata": {},
   "source": [
    "# 5. Try various *classification* models <a class=\"anchor\" id=\"P04\"></a>"
   ]
  },
  {
   "cell_type": "markdown",
   "metadata": {},
   "source": [
    "## Convolutional Neural Network - Architecture 1"
   ]
  },
  {
   "cell_type": "markdown",
   "metadata": {},
   "source": [
    "CNN architecture from: https://www.researchgate.net/publication/351056923_Facial_Expression_Recognition_Using_CNN_with_Keras"
   ]
  },
  {
   "cell_type": "code",
   "execution_count": 32,
   "metadata": {},
   "outputs": [],
   "source": [
    "def architecture1():\n",
    "    inputs = keras.Input(shape=(48,48,1))\n",
    "    \n",
    "    # 1st convolution\n",
    "    C = keras.layers.Conv2D(filters=64, kernel_size=(3,3), padding='same')(inputs)\n",
    "    B = keras.layers.BatchNormalization()(C)\n",
    "    A = keras.layers.Activation('relu')(B)\n",
    "    M = keras.layers.MaxPooling2D((2,2))(A)\n",
    "    D = keras.layers.Dropout(0.25)(M)\n",
    "    \n",
    "    # 2nd convolution\n",
    "    Con = keras.layers.Conv2D(filters=128, kernel_size=(5,5), padding='same')(D)\n",
    "    Bat = keras.layers.BatchNormalization()(Con)\n",
    "    Act = keras.layers.Activation('relu')(Bat)\n",
    "    Max = keras.layers.MaxPooling2D((2,2))(Act)\n",
    "    Dro = keras.layers.Dropout(0.25)(Max)\n",
    "    \n",
    "    # 3rd convolution\n",
    "    Con = keras.layers.Conv2D(filters=512, kernel_size=(3,3), padding='same')(Dro)\n",
    "    Bat = keras.layers.BatchNormalization()(Con)\n",
    "    Act = keras.layers.Activation('relu')(Bat)\n",
    "    Max = keras.layers.MaxPooling2D((2,2))(Act)\n",
    "    Dro = keras.layers.Dropout(0.25)(Max)\n",
    "    \n",
    "    # 4rd convolution\n",
    "    Con = keras.layers.Conv2D(filters=512, kernel_size=(3,3), padding='same')(Dro)\n",
    "    Bat = keras.layers.BatchNormalization()(Con)\n",
    "    Act = keras.layers.Activation('relu')(Bat)\n",
    "    Max = keras.layers.MaxPooling2D((2,2))(Act)\n",
    "    Dro = keras.layers.Dropout(0.25)(Max)\n",
    "    \n",
    "    # Flatten layer\n",
    "    Fla = keras.layers.Flatten()(Dro)\n",
    "    \n",
    "    # 1st fully connected layer\n",
    "    Den = keras.layers.Dense(256)(Fla)\n",
    "    Bat = keras.layers.BatchNormalization()(Den)\n",
    "    Act = keras.layers.Activation('relu')(Bat)\n",
    "    Dro = keras.layers.Dropout(0.25)(Act)\n",
    "    \n",
    "    # 2nd fully connected layer\n",
    "    Den = keras.layers.Dense(512)(Dro)\n",
    "    Bat = keras.layers.BatchNormalization()(Den)\n",
    "    Act = keras.layers.Activation('relu')(Bat)\n",
    "    Dro = keras.layers.Dropout(0.25)(Act)\n",
    "    \n",
    "    \n",
    "    # output for the 7 expressions (0=Angry, 1=Disgust, 2=Fear, 3=Happy, 4=Sad, 5=Surprise, 6=Neutral).\n",
    "    outputs = keras.layers.Dense(7, activation='softmax')(Dro)\n",
    "    \n",
    "    model = keras.Model(inputs, outputs)\n",
    "    return model\n",
    "    "
   ]
  },
  {
   "cell_type": "code",
   "execution_count": 33,
   "metadata": {},
   "outputs": [],
   "source": [
    "model1 = architecture1()"
   ]
  },
  {
   "cell_type": "code",
   "execution_count": 34,
   "metadata": {},
   "outputs": [
    {
     "name": "stdout",
     "output_type": "stream",
     "text": [
      "Model: \"model\"\n",
      "_________________________________________________________________\n",
      " Layer (type)                Output Shape              Param #   \n",
      "=================================================================\n",
      " input_1 (InputLayer)        [(None, 48, 48, 1)]       0         \n",
      "                                                                 \n",
      " conv2d (Conv2D)             (None, 48, 48, 64)        640       \n",
      "                                                                 \n",
      " batch_normalization (BatchN  (None, 48, 48, 64)       256       \n",
      " ormalization)                                                   \n",
      "                                                                 \n",
      " activation (Activation)     (None, 48, 48, 64)        0         \n",
      "                                                                 \n",
      " max_pooling2d (MaxPooling2D  (None, 24, 24, 64)       0         \n",
      " )                                                               \n",
      "                                                                 \n",
      " dropout (Dropout)           (None, 24, 24, 64)        0         \n",
      "                                                                 \n",
      " conv2d_1 (Conv2D)           (None, 24, 24, 128)       204928    \n",
      "                                                                 \n",
      " batch_normalization_1 (Batc  (None, 24, 24, 128)      512       \n",
      " hNormalization)                                                 \n",
      "                                                                 \n",
      " activation_1 (Activation)   (None, 24, 24, 128)       0         \n",
      "                                                                 \n",
      " max_pooling2d_1 (MaxPooling  (None, 12, 12, 128)      0         \n",
      " 2D)                                                             \n",
      "                                                                 \n",
      " dropout_1 (Dropout)         (None, 12, 12, 128)       0         \n",
      "                                                                 \n",
      " conv2d_2 (Conv2D)           (None, 12, 12, 512)       590336    \n",
      "                                                                 \n",
      " batch_normalization_2 (Batc  (None, 12, 12, 512)      2048      \n",
      " hNormalization)                                                 \n",
      "                                                                 \n",
      " activation_2 (Activation)   (None, 12, 12, 512)       0         \n",
      "                                                                 \n",
      " max_pooling2d_2 (MaxPooling  (None, 6, 6, 512)        0         \n",
      " 2D)                                                             \n",
      "                                                                 \n",
      " dropout_2 (Dropout)         (None, 6, 6, 512)         0         \n",
      "                                                                 \n",
      " conv2d_3 (Conv2D)           (None, 6, 6, 512)         2359808   \n",
      "                                                                 \n",
      " batch_normalization_3 (Batc  (None, 6, 6, 512)        2048      \n",
      " hNormalization)                                                 \n",
      "                                                                 \n",
      " activation_3 (Activation)   (None, 6, 6, 512)         0         \n",
      "                                                                 \n",
      " max_pooling2d_3 (MaxPooling  (None, 3, 3, 512)        0         \n",
      " 2D)                                                             \n",
      "                                                                 \n",
      " dropout_3 (Dropout)         (None, 3, 3, 512)         0         \n",
      "                                                                 \n",
      " flatten (Flatten)           (None, 4608)              0         \n",
      "                                                                 \n",
      " dense (Dense)               (None, 256)               1179904   \n",
      "                                                                 \n",
      " batch_normalization_4 (Batc  (None, 256)              1024      \n",
      " hNormalization)                                                 \n",
      "                                                                 \n",
      " activation_4 (Activation)   (None, 256)               0         \n",
      "                                                                 \n",
      " dropout_4 (Dropout)         (None, 256)               0         \n",
      "                                                                 \n",
      " dense_1 (Dense)             (None, 512)               131584    \n",
      "                                                                 \n",
      " batch_normalization_5 (Batc  (None, 512)              2048      \n",
      " hNormalization)                                                 \n",
      "                                                                 \n",
      " activation_5 (Activation)   (None, 512)               0         \n",
      "                                                                 \n",
      " dropout_5 (Dropout)         (None, 512)               0         \n",
      "                                                                 \n",
      " dense_2 (Dense)             (None, 7)                 3591      \n",
      "                                                                 \n",
      "=================================================================\n",
      "Total params: 4,478,727\n",
      "Trainable params: 4,474,759\n",
      "Non-trainable params: 3,968\n",
      "_________________________________________________________________\n"
     ]
    }
   ],
   "source": [
    "model1.summary()"
   ]
  },
  {
   "cell_type": "markdown",
   "metadata": {},
   "source": [
    "## Define Optimizer & Loss\n"
   ]
  },
  {
   "cell_type": "code",
   "execution_count": 35,
   "metadata": {},
   "outputs": [],
   "source": [
    "f_opti = keras.optimizers.Adam(learning_rate=0.0005)"
   ]
  },
  {
   "cell_type": "code",
   "execution_count": 36,
   "metadata": {},
   "outputs": [],
   "source": [
    "f_loss = keras.losses.CategoricalCrossentropy(from_logits=False)"
   ]
  },
  {
   "cell_type": "markdown",
   "metadata": {},
   "source": [
    "## Compile the model"
   ]
  },
  {
   "cell_type": "code",
   "execution_count": 37,
   "metadata": {
    "scrolled": true
   },
   "outputs": [],
   "source": [
    "model1.compile(optimizer=f_opti, loss=f_loss, metrics=['accuracy'])"
   ]
  },
  {
   "cell_type": "markdown",
   "metadata": {},
   "source": [
    "## Fit the model"
   ]
  },
  {
   "cell_type": "code",
   "execution_count": 38,
   "metadata": {},
   "outputs": [],
   "source": [
    "from tqdm.keras import TqdmCallback"
   ]
  },
  {
   "cell_type": "code",
   "execution_count": 39,
   "metadata": {},
   "outputs": [],
   "source": [
    "img_size=48\n",
    "batch_size=20\n",
    "epochs=100"
   ]
  },
  {
   "cell_type": "code",
   "execution_count": 40,
   "metadata": {},
   "outputs": [],
   "source": [
    "from keras.callbacks import ModelCheckpoint"
   ]
  },
  {
   "cell_type": "code",
   "execution_count": 41,
   "metadata": {},
   "outputs": [],
   "source": [
    "filepath = 'model1B.epoch{epoch:02d}-accuracy{val_accuracy:.2f}.hdf5'"
   ]
  },
  {
   "cell_type": "code",
   "execution_count": 42,
   "metadata": {},
   "outputs": [],
   "source": [
    "checkpoint = ModelCheckpoint(filepath=filepath, \n",
    "                             #monitor='val_loss',\n",
    "                             #mode='min'\n",
    "                             monitor='val_accuracy',\n",
    "                             mode='max',\n",
    "                             verbose=1, \n",
    "                             save_best_only=True,\n",
    "                             )"
   ]
  },
  {
   "cell_type": "code",
   "execution_count": 43,
   "metadata": {},
   "outputs": [
    {
     "data": {
      "application/vnd.jupyter.widget-view+json": {
       "model_id": "2008452832bb461bac3a744b2bb1cb00",
       "version_major": 2,
       "version_minor": 0
      },
      "text/plain": [
       "0epoch [00:00, ?epoch/s]"
      ]
     },
     "metadata": {},
     "output_type": "display_data"
    },
    {
     "data": {
      "application/vnd.jupyter.widget-view+json": {
       "model_id": "",
       "version_major": 2,
       "version_minor": 0
      },
      "text/plain": [
       "0batch [00:00, ?batch/s]"
      ]
     },
     "metadata": {},
     "output_type": "display_data"
    },
    {
     "name": "stdout",
     "output_type": "stream",
     "text": [
      "Epoch 1/100\n",
      "100/100 [==============================] - ETA: 0s - loss: 2.0836 - accuracy: 0.2256\n",
      "Epoch 00001: val_accuracy improved from -inf to 0.25625, saving model to model1B.epoch01-accuracy0.26.hdf5\n",
      "100/100 [==============================] - 102s 975ms/step - loss: 2.0836 - accuracy: 0.2256 - val_loss: 1.8884 - val_accuracy: 0.2562\n",
      "Epoch 2/100\n",
      "100/100 [==============================] - ETA: 0s - loss: 1.9472 - accuracy: 0.2434\n",
      "Epoch 00002: val_accuracy improved from 0.25625 to 0.25688, saving model to model1B.epoch02-accuracy0.26.hdf5\n",
      "100/100 [==============================] - 131s 1s/step - loss: 1.9472 - accuracy: 0.2434 - val_loss: 1.8801 - val_accuracy: 0.2569\n",
      "Epoch 3/100\n",
      "100/100 [==============================] - ETA: 0s - loss: 1.8584 - accuracy: 0.2776\n",
      "Epoch 00003: val_accuracy improved from 0.25688 to 0.26313, saving model to model1B.epoch03-accuracy0.26.hdf5\n",
      "100/100 [==============================] - 104s 1s/step - loss: 1.8584 - accuracy: 0.2776 - val_loss: 1.8727 - val_accuracy: 0.2631\n",
      "Epoch 4/100\n",
      "100/100 [==============================] - ETA: 0s - loss: 1.7863 - accuracy: 0.3131\n",
      "Epoch 00004: val_accuracy improved from 0.26313 to 0.27250, saving model to model1B.epoch04-accuracy0.27.hdf5\n",
      "100/100 [==============================] - 130s 1s/step - loss: 1.7863 - accuracy: 0.3131 - val_loss: 2.0525 - val_accuracy: 0.2725\n",
      "Epoch 5/100\n",
      "100/100 [==============================] - ETA: 0s - loss: 1.7213 - accuracy: 0.3391\n",
      "Epoch 00005: val_accuracy did not improve from 0.27250\n",
      "100/100 [==============================] - 102s 1s/step - loss: 1.7213 - accuracy: 0.3391 - val_loss: 1.9799 - val_accuracy: 0.2506\n",
      "Epoch 6/100\n",
      "100/100 [==============================] - ETA: 0s - loss: 1.6648 - accuracy: 0.3619\n",
      "Epoch 00006: val_accuracy improved from 0.27250 to 0.33375, saving model to model1B.epoch06-accuracy0.33.hdf5\n",
      "100/100 [==============================] - 124s 1s/step - loss: 1.6648 - accuracy: 0.3619 - val_loss: 1.8010 - val_accuracy: 0.3338\n",
      "Epoch 7/100\n",
      "100/100 [==============================] - ETA: 0s - loss: 1.6254 - accuracy: 0.3775\n",
      "Epoch 00007: val_accuracy improved from 0.33375 to 0.35438, saving model to model1B.epoch07-accuracy0.35.hdf5\n",
      "100/100 [==============================] - 125s 1s/step - loss: 1.6254 - accuracy: 0.3775 - val_loss: 1.6651 - val_accuracy: 0.3544\n",
      "Epoch 8/100\n",
      "100/100 [==============================] - ETA: 0s - loss: 1.5940 - accuracy: 0.3856\n",
      "Epoch 00008: val_accuracy improved from 0.35438 to 0.38188, saving model to model1B.epoch08-accuracy0.38.hdf5\n",
      "100/100 [==============================] - 107s 1s/step - loss: 1.5940 - accuracy: 0.3856 - val_loss: 1.6111 - val_accuracy: 0.3819\n",
      "Epoch 9/100\n",
      "100/100 [==============================] - ETA: 0s - loss: 1.5622 - accuracy: 0.3953\n",
      "Epoch 00009: val_accuracy did not improve from 0.38188\n",
      "100/100 [==============================] - 131s 1s/step - loss: 1.5622 - accuracy: 0.3953 - val_loss: 1.7795 - val_accuracy: 0.3619\n",
      "Epoch 10/100\n",
      "100/100 [==============================] - ETA: 0s - loss: 1.5201 - accuracy: 0.4156\n",
      "Epoch 00010: val_accuracy did not improve from 0.38188\n",
      "100/100 [==============================] - 105s 1s/step - loss: 1.5201 - accuracy: 0.4156 - val_loss: 1.8220 - val_accuracy: 0.3631\n",
      "Epoch 11/100\n",
      "100/100 [==============================] - ETA: 0s - loss: 1.4896 - accuracy: 0.4328\n",
      "Epoch 00011: val_accuracy improved from 0.38188 to 0.43375, saving model to model1B.epoch11-accuracy0.43.hdf5\n",
      "100/100 [==============================] - 130s 1s/step - loss: 1.4896 - accuracy: 0.4328 - val_loss: 1.4652 - val_accuracy: 0.4338\n",
      "Epoch 12/100\n",
      "100/100 [==============================] - ETA: 0s - loss: 1.4418 - accuracy: 0.4469\n",
      "Epoch 00012: val_accuracy improved from 0.43375 to 0.44750, saving model to model1B.epoch12-accuracy0.45.hdf5\n",
      "100/100 [==============================] - 124s 1s/step - loss: 1.4418 - accuracy: 0.4469 - val_loss: 1.4666 - val_accuracy: 0.4475\n",
      "Epoch 13/100\n",
      "100/100 [==============================] - ETA: 0s - loss: 1.4350 - accuracy: 0.4459\n",
      "Epoch 00013: val_accuracy did not improve from 0.44750\n",
      "100/100 [==============================] - 103s 1s/step - loss: 1.4350 - accuracy: 0.4459 - val_loss: 1.4555 - val_accuracy: 0.4313\n",
      "Epoch 14/100\n",
      "100/100 [==============================] - ETA: 0s - loss: 1.3797 - accuracy: 0.4837\n",
      "Epoch 00014: val_accuracy did not improve from 0.44750\n",
      "100/100 [==============================] - 118s 1s/step - loss: 1.3797 - accuracy: 0.4837 - val_loss: 1.5534 - val_accuracy: 0.4056\n",
      "Epoch 15/100\n",
      "100/100 [==============================] - ETA: 0s - loss: 1.3596 - accuracy: 0.4756\n",
      "Epoch 00015: val_accuracy improved from 0.44750 to 0.49500, saving model to model1B.epoch15-accuracy0.50.hdf5\n",
      "100/100 [==============================] - 120s 1s/step - loss: 1.3596 - accuracy: 0.4756 - val_loss: 1.2930 - val_accuracy: 0.4950\n",
      "Epoch 16/100\n",
      "100/100 [==============================] - ETA: 0s - loss: 1.3254 - accuracy: 0.4956\n",
      "Epoch 00016: val_accuracy did not improve from 0.49500\n",
      "100/100 [==============================] - 91s 907ms/step - loss: 1.3254 - accuracy: 0.4956 - val_loss: 1.3476 - val_accuracy: 0.4787\n",
      "Epoch 17/100\n",
      "100/100 [==============================] - ETA: 0s - loss: 1.3487 - accuracy: 0.4875\n",
      "Epoch 00017: val_accuracy did not improve from 0.49500\n",
      "100/100 [==============================] - 120s 1s/step - loss: 1.3487 - accuracy: 0.4875 - val_loss: 1.3276 - val_accuracy: 0.4888\n",
      "Epoch 18/100\n",
      "100/100 [==============================] - ETA: 0s - loss: 1.3185 - accuracy: 0.5022\n",
      "Epoch 00018: val_accuracy did not improve from 0.49500\n",
      "100/100 [==============================] - 128s 1s/step - loss: 1.3185 - accuracy: 0.5022 - val_loss: 1.3710 - val_accuracy: 0.4762\n",
      "Epoch 19/100\n",
      "100/100 [==============================] - ETA: 0s - loss: 1.2676 - accuracy: 0.5181\n",
      "Epoch 00019: val_accuracy did not improve from 0.49500\n",
      "100/100 [==============================] - 107s 1s/step - loss: 1.2676 - accuracy: 0.5181 - val_loss: 1.3818 - val_accuracy: 0.4425\n",
      "Epoch 20/100\n",
      "100/100 [==============================] - ETA: 0s - loss: 1.3050 - accuracy: 0.4970\n",
      "Epoch 00020: val_accuracy did not improve from 0.49500\n",
      "100/100 [==============================] - 130s 1s/step - loss: 1.3050 - accuracy: 0.4970 - val_loss: 1.3163 - val_accuracy: 0.4894\n",
      "Epoch 21/100\n",
      "100/100 [==============================] - ETA: 0s - loss: 1.2925 - accuracy: 0.5055\n",
      "Epoch 00021: val_accuracy did not improve from 0.49500\n",
      "100/100 [==============================] - 106s 1s/step - loss: 1.2925 - accuracy: 0.5055 - val_loss: 1.3924 - val_accuracy: 0.4519\n",
      "Epoch 22/100\n",
      "100/100 [==============================] - ETA: 0s - loss: 1.2532 - accuracy: 0.5206\n",
      "Epoch 00022: val_accuracy improved from 0.49500 to 0.51562, saving model to model1B.epoch22-accuracy0.52.hdf5\n",
      "100/100 [==============================] - 134s 1s/step - loss: 1.2532 - accuracy: 0.5206 - val_loss: 1.2799 - val_accuracy: 0.5156\n",
      "Epoch 23/100\n",
      "100/100 [==============================] - ETA: 0s - loss: 1.2305 - accuracy: 0.5250\n",
      "Epoch 00023: val_accuracy did not improve from 0.51562\n",
      "100/100 [==============================] - 97s 967ms/step - loss: 1.2305 - accuracy: 0.5250 - val_loss: 1.3164 - val_accuracy: 0.5119\n",
      "Epoch 24/100\n",
      "100/100 [==============================] - ETA: 0s - loss: 1.2368 - accuracy: 0.5264\n",
      "Epoch 00024: val_accuracy did not improve from 0.51562\n",
      "100/100 [==============================] - 123s 1s/step - loss: 1.2368 - accuracy: 0.5264 - val_loss: 1.3735 - val_accuracy: 0.4819\n",
      "Epoch 25/100\n",
      "100/100 [==============================] - ETA: 0s - loss: 1.2106 - accuracy: 0.5494\n",
      "Epoch 00025: val_accuracy improved from 0.51562 to 0.52562, saving model to model1B.epoch25-accuracy0.53.hdf5\n",
      "100/100 [==============================] - 100s 995ms/step - loss: 1.2106 - accuracy: 0.5494 - val_loss: 1.2563 - val_accuracy: 0.5256\n",
      "Epoch 26/100\n",
      "100/100 [==============================] - ETA: 0s - loss: 1.2047 - accuracy: 0.5381\n",
      "Epoch 00026: val_accuracy improved from 0.52562 to 0.54375, saving model to model1B.epoch26-accuracy0.54.hdf5\n",
      "100/100 [==============================] - 120s 1s/step - loss: 1.2047 - accuracy: 0.5381 - val_loss: 1.2021 - val_accuracy: 0.5437\n",
      "Epoch 27/100\n",
      "100/100 [==============================] - ETA: 0s - loss: 1.1903 - accuracy: 0.5416\n",
      "Epoch 00027: val_accuracy did not improve from 0.54375\n",
      "100/100 [==============================] - 107s 1s/step - loss: 1.1903 - accuracy: 0.5416 - val_loss: 1.3146 - val_accuracy: 0.5031\n",
      "Epoch 28/100\n",
      "100/100 [==============================] - ETA: 0s - loss: 1.2006 - accuracy: 0.5468\n",
      "Epoch 00028: val_accuracy did not improve from 0.54375\n",
      "100/100 [==============================] - 133s 1s/step - loss: 1.2006 - accuracy: 0.5468 - val_loss: 1.2998 - val_accuracy: 0.5219\n",
      "Epoch 29/100\n",
      "100/100 [==============================] - ETA: 0s - loss: 1.1818 - accuracy: 0.5512\n",
      "Epoch 00029: val_accuracy did not improve from 0.54375\n",
      "100/100 [==============================] - 130s 1s/step - loss: 1.1818 - accuracy: 0.5512 - val_loss: 1.4845 - val_accuracy: 0.4231\n",
      "Epoch 30/100\n",
      "100/100 [==============================] - ETA: 0s - loss: 1.1513 - accuracy: 0.5638\n",
      "Epoch 00030: val_accuracy did not improve from 0.54375\n",
      "100/100 [==============================] - 93s 920ms/step - loss: 1.1513 - accuracy: 0.5638 - val_loss: 1.4871 - val_accuracy: 0.4437\n",
      "Epoch 31/100\n",
      "100/100 [==============================] - ETA: 0s - loss: 1.1390 - accuracy: 0.5688\n",
      "Epoch 00031: val_accuracy improved from 0.54375 to 0.55563, saving model to model1B.epoch31-accuracy0.56.hdf5\n",
      "100/100 [==============================] - 134s 1s/step - loss: 1.1390 - accuracy: 0.5688 - val_loss: 1.1879 - val_accuracy: 0.5556\n",
      "Epoch 32/100\n",
      "100/100 [==============================] - ETA: 0s - loss: 1.1534 - accuracy: 0.5628\n",
      "Epoch 00032: val_accuracy did not improve from 0.55563\n",
      "100/100 [==============================] - 129s 1s/step - loss: 1.1534 - accuracy: 0.5628 - val_loss: 1.1817 - val_accuracy: 0.5469\n",
      "Epoch 33/100\n",
      "100/100 [==============================] - ETA: 0s - loss: 1.1403 - accuracy: 0.5678\n",
      "Epoch 00033: val_accuracy did not improve from 0.55563\n",
      "100/100 [==============================] - 101s 1s/step - loss: 1.1403 - accuracy: 0.5678 - val_loss: 1.2057 - val_accuracy: 0.5431\n",
      "Epoch 34/100\n",
      "100/100 [==============================] - ETA: 0s - loss: 1.1249 - accuracy: 0.5694\n",
      "Epoch 00034: val_accuracy did not improve from 0.55563\n",
      "100/100 [==============================] - 133s 1s/step - loss: 1.1249 - accuracy: 0.5694 - val_loss: 1.2154 - val_accuracy: 0.5294\n",
      "Epoch 35/100\n",
      "100/100 [==============================] - ETA: 0s - loss: 1.1325 - accuracy: 0.5734\n",
      "Epoch 00035: val_accuracy did not improve from 0.55563\n",
      "100/100 [==============================] - 130s 1s/step - loss: 1.1325 - accuracy: 0.5734 - val_loss: 1.3211 - val_accuracy: 0.5119\n",
      "Epoch 36/100\n",
      "100/100 [==============================] - ETA: 0s - loss: 1.1331 - accuracy: 0.5700\n",
      "Epoch 00036: val_accuracy improved from 0.55563 to 0.57250, saving model to model1B.epoch36-accuracy0.57.hdf5\n",
      "100/100 [==============================] - 99s 985ms/step - loss: 1.1331 - accuracy: 0.5700 - val_loss: 1.1763 - val_accuracy: 0.5725\n",
      "Epoch 37/100\n",
      "100/100 [==============================] - ETA: 0s - loss: 1.1069 - accuracy: 0.5781\n",
      "Epoch 00037: val_accuracy did not improve from 0.57250\n",
      "100/100 [==============================] - 122s 1s/step - loss: 1.1069 - accuracy: 0.5781 - val_loss: 1.3684 - val_accuracy: 0.5025\n",
      "Epoch 38/100\n",
      "100/100 [==============================] - ETA: 0s - loss: 1.1295 - accuracy: 0.5747\n",
      "Epoch 00038: val_accuracy did not improve from 0.57250\n",
      "100/100 [==============================] - 133s 1s/step - loss: 1.1295 - accuracy: 0.5747 - val_loss: 1.2654 - val_accuracy: 0.5306\n",
      "Epoch 39/100\n",
      "100/100 [==============================] - ETA: 0s - loss: 1.1030 - accuracy: 0.5788\n",
      "Epoch 00039: val_accuracy did not improve from 0.57250\n",
      "100/100 [==============================] - 132s 1s/step - loss: 1.1030 - accuracy: 0.5788 - val_loss: 1.1977 - val_accuracy: 0.5531\n",
      "Epoch 40/100\n",
      "100/100 [==============================] - ETA: 0s - loss: 1.0990 - accuracy: 0.5775\n",
      "Epoch 00040: val_accuracy did not improve from 0.57250\n",
      "100/100 [==============================] - 129s 1s/step - loss: 1.0990 - accuracy: 0.5775 - val_loss: 1.2078 - val_accuracy: 0.5525\n",
      "Epoch 41/100\n",
      "100/100 [==============================] - ETA: 0s - loss: 1.0508 - accuracy: 0.6097\n",
      "Epoch 00041: val_accuracy did not improve from 0.57250\n",
      "100/100 [==============================] - 130s 1s/step - loss: 1.0508 - accuracy: 0.6097 - val_loss: 1.2154 - val_accuracy: 0.5400\n",
      "Epoch 42/100\n",
      "100/100 [==============================] - ETA: 0s - loss: 1.0800 - accuracy: 0.5900\n",
      "Epoch 00042: val_accuracy did not improve from 0.57250\n",
      "100/100 [==============================] - 95s 941ms/step - loss: 1.0800 - accuracy: 0.5900 - val_loss: 1.3791 - val_accuracy: 0.5250\n",
      "Epoch 43/100\n",
      "100/100 [==============================] - ETA: 0s - loss: 1.0583 - accuracy: 0.6019\n",
      "Epoch 00043: val_accuracy did not improve from 0.57250\n",
      "100/100 [==============================] - 134s 1s/step - loss: 1.0583 - accuracy: 0.6019 - val_loss: 1.2920 - val_accuracy: 0.5375\n",
      "Epoch 44/100\n",
      "100/100 [==============================] - ETA: 0s - loss: 1.0684 - accuracy: 0.5978\n",
      "Epoch 00044: val_accuracy did not improve from 0.57250\n",
      "100/100 [==============================] - 94s 938ms/step - loss: 1.0684 - accuracy: 0.5978 - val_loss: 1.3060 - val_accuracy: 0.4931\n",
      "Epoch 45/100\n",
      "100/100 [==============================] - ETA: 0s - loss: 1.0410 - accuracy: 0.6137\n",
      "Epoch 00045: val_accuracy did not improve from 0.57250\n",
      "100/100 [==============================] - 134s 1s/step - loss: 1.0410 - accuracy: 0.6137 - val_loss: 1.2716 - val_accuracy: 0.5238\n",
      "Epoch 46/100\n",
      "100/100 [==============================] - ETA: 0s - loss: 1.0509 - accuracy: 0.5934\n",
      "Epoch 00046: val_accuracy did not improve from 0.57250\n",
      "100/100 [==============================] - 133s 1s/step - loss: 1.0509 - accuracy: 0.5934 - val_loss: 1.3063 - val_accuracy: 0.4938\n",
      "Epoch 47/100\n",
      "100/100 [==============================] - ETA: 0s - loss: 1.0462 - accuracy: 0.6044\n",
      "Epoch 00047: val_accuracy did not improve from 0.57250\n",
      "100/100 [==============================] - 91s 916ms/step - loss: 1.0462 - accuracy: 0.6044 - val_loss: 1.5617 - val_accuracy: 0.4556\n",
      "Epoch 48/100\n",
      "100/100 [==============================] - ETA: 0s - loss: 1.0373 - accuracy: 0.6078\n",
      "Epoch 00048: val_accuracy did not improve from 0.57250\n",
      "100/100 [==============================] - 129s 1s/step - loss: 1.0373 - accuracy: 0.6078 - val_loss: 1.4559 - val_accuracy: 0.5025\n",
      "Epoch 49/100\n",
      "100/100 [==============================] - ETA: 0s - loss: 1.0646 - accuracy: 0.5938\n",
      "Epoch 00049: val_accuracy improved from 0.57250 to 0.58438, saving model to model1B.epoch49-accuracy0.58.hdf5\n",
      "100/100 [==============================] - 134s 1s/step - loss: 1.0646 - accuracy: 0.5938 - val_loss: 1.1020 - val_accuracy: 0.5844\n",
      "Epoch 50/100\n",
      "100/100 [==============================] - ETA: 0s - loss: 1.0344 - accuracy: 0.6056\n",
      "Epoch 00050: val_accuracy did not improve from 0.58438\n",
      "100/100 [==============================] - 108s 1s/step - loss: 1.0344 - accuracy: 0.6056 - val_loss: 1.3140 - val_accuracy: 0.5088\n",
      "Epoch 51/100\n",
      "100/100 [==============================] - ETA: 0s - loss: 0.9918 - accuracy: 0.6366\n",
      "Epoch 00051: val_accuracy did not improve from 0.58438\n",
      "100/100 [==============================] - 117s 1s/step - loss: 0.9918 - accuracy: 0.6366 - val_loss: 1.1406 - val_accuracy: 0.5775\n",
      "Epoch 52/100\n",
      "100/100 [==============================] - ETA: 0s - loss: 0.9989 - accuracy: 0.6303\n",
      "Epoch 00052: val_accuracy did not improve from 0.58438\n",
      "100/100 [==============================] - 134s 1s/step - loss: 0.9989 - accuracy: 0.6303 - val_loss: 1.1274 - val_accuracy: 0.5656\n",
      "Epoch 53/100\n",
      "100/100 [==============================] - ETA: 0s - loss: 0.9656 - accuracy: 0.6379\n",
      "Epoch 00053: val_accuracy did not improve from 0.58438\n",
      "100/100 [==============================] - 116s 1s/step - loss: 0.9656 - accuracy: 0.6379 - val_loss: 1.2272 - val_accuracy: 0.5537\n",
      "Epoch 54/100\n",
      "100/100 [==============================] - ETA: 0s - loss: 0.9865 - accuracy: 0.6300\n",
      "Epoch 00054: val_accuracy improved from 0.58438 to 0.59062, saving model to model1B.epoch54-accuracy0.59.hdf5\n",
      "100/100 [==============================] - 115s 1s/step - loss: 0.9865 - accuracy: 0.6300 - val_loss: 1.1077 - val_accuracy: 0.5906\n"
     ]
    },
    {
     "name": "stdout",
     "output_type": "stream",
     "text": [
      "Epoch 55/100\n",
      "100/100 [==============================] - ETA: 0s - loss: 0.9828 - accuracy: 0.6359\n",
      "Epoch 00055: val_accuracy did not improve from 0.59062\n",
      "100/100 [==============================] - 83s 824ms/step - loss: 0.9828 - accuracy: 0.6359 - val_loss: 1.2215 - val_accuracy: 0.5350\n",
      "Epoch 56/100\n",
      "100/100 [==============================] - ETA: 0s - loss: 0.9728 - accuracy: 0.6275\n",
      "Epoch 00056: val_accuracy improved from 0.59062 to 0.60000, saving model to model1B.epoch56-accuracy0.60.hdf5\n",
      "100/100 [==============================] - 133s 1s/step - loss: 0.9728 - accuracy: 0.6275 - val_loss: 1.0709 - val_accuracy: 0.6000\n",
      "Epoch 57/100\n",
      "100/100 [==============================] - ETA: 0s - loss: 0.9877 - accuracy: 0.6291\n",
      "Epoch 00057: val_accuracy did not improve from 0.60000\n",
      "100/100 [==============================] - 135s 1s/step - loss: 0.9877 - accuracy: 0.6291 - val_loss: 1.1927 - val_accuracy: 0.5431\n",
      "Epoch 58/100\n",
      "100/100 [==============================] - ETA: 0s - loss: 0.9922 - accuracy: 0.6372\n",
      "Epoch 00058: val_accuracy did not improve from 0.60000\n",
      "100/100 [==============================] - 116s 1s/step - loss: 0.9922 - accuracy: 0.6372 - val_loss: 1.4973 - val_accuracy: 0.4594\n",
      "Epoch 59/100\n",
      "100/100 [==============================] - ETA: 0s - loss: 0.9780 - accuracy: 0.6316\n",
      "Epoch 00059: val_accuracy did not improve from 0.60000\n",
      "100/100 [==============================] - 114s 1s/step - loss: 0.9780 - accuracy: 0.6316 - val_loss: 1.1576 - val_accuracy: 0.5756\n",
      "Epoch 60/100\n",
      "100/100 [==============================] - ETA: 0s - loss: 0.9372 - accuracy: 0.6481\n",
      "Epoch 00060: val_accuracy did not improve from 0.60000\n",
      "100/100 [==============================] - 134s 1s/step - loss: 0.9372 - accuracy: 0.6481 - val_loss: 1.2865 - val_accuracy: 0.5231\n",
      "Epoch 61/100\n",
      "100/100 [==============================] - ETA: 0s - loss: 0.9711 - accuracy: 0.6463\n",
      "Epoch 00061: val_accuracy did not improve from 0.60000\n",
      "100/100 [==============================] - 117s 1s/step - loss: 0.9711 - accuracy: 0.6463 - val_loss: 1.2177 - val_accuracy: 0.5500\n",
      "Epoch 62/100\n",
      "100/100 [==============================] - ETA: 0s - loss: 0.9411 - accuracy: 0.6475\n",
      "Epoch 00062: val_accuracy did not improve from 0.60000\n",
      "100/100 [==============================] - 111s 1s/step - loss: 0.9411 - accuracy: 0.6475 - val_loss: 1.1701 - val_accuracy: 0.5631\n",
      "Epoch 63/100\n",
      "100/100 [==============================] - ETA: 0s - loss: 0.9089 - accuracy: 0.6603\n",
      "Epoch 00063: val_accuracy did not improve from 0.60000\n",
      "100/100 [==============================] - 128s 1s/step - loss: 0.9089 - accuracy: 0.6603 - val_loss: 1.2830 - val_accuracy: 0.5256\n",
      "Epoch 64/100\n",
      "100/100 [==============================] - ETA: 0s - loss: 0.9338 - accuracy: 0.6550\n",
      "Epoch 00064: val_accuracy did not improve from 0.60000\n",
      "100/100 [==============================] - 93s 925ms/step - loss: 0.9338 - accuracy: 0.6550 - val_loss: 1.2317 - val_accuracy: 0.5381\n",
      "Epoch 65/100\n",
      "100/100 [==============================] - ETA: 0s - loss: 0.9132 - accuracy: 0.6591\n",
      "Epoch 00065: val_accuracy did not improve from 0.60000\n",
      "100/100 [==============================] - 134s 1s/step - loss: 0.9132 - accuracy: 0.6591 - val_loss: 1.3111 - val_accuracy: 0.5331\n",
      "Epoch 66/100\n",
      "100/100 [==============================] - ETA: 0s - loss: 0.9265 - accuracy: 0.6466\n",
      "Epoch 00066: val_accuracy did not improve from 0.60000\n",
      "100/100 [==============================] - 134s 1s/step - loss: 0.9265 - accuracy: 0.6466 - val_loss: 1.1742 - val_accuracy: 0.5675\n",
      "Epoch 67/100\n",
      "100/100 [==============================] - ETA: 0s - loss: 0.8824 - accuracy: 0.6784\n",
      "Epoch 00067: val_accuracy did not improve from 0.60000\n",
      "100/100 [==============================] - 133s 1s/step - loss: 0.8824 - accuracy: 0.6784 - val_loss: 1.1366 - val_accuracy: 0.5612\n",
      "Epoch 68/100\n",
      "100/100 [==============================] - ETA: 0s - loss: 0.8948 - accuracy: 0.6722\n",
      "Epoch 00068: val_accuracy did not improve from 0.60000\n",
      "100/100 [==============================] - 136s 1s/step - loss: 0.8948 - accuracy: 0.6722 - val_loss: 1.1564 - val_accuracy: 0.5938\n",
      "Epoch 69/100\n",
      "100/100 [==============================] - ETA: 0s - loss: 0.8965 - accuracy: 0.6664\n",
      "Epoch 00069: val_accuracy did not improve from 0.60000\n",
      "100/100 [==============================] - 134s 1s/step - loss: 0.8965 - accuracy: 0.6664 - val_loss: 1.1080 - val_accuracy: 0.5900\n",
      "Epoch 70/100\n",
      "100/100 [==============================] - ETA: 0s - loss: 0.8760 - accuracy: 0.6766\n",
      "Epoch 00070: val_accuracy did not improve from 0.60000\n",
      "100/100 [==============================] - 94s 948ms/step - loss: 0.8760 - accuracy: 0.6766 - val_loss: 1.1452 - val_accuracy: 0.5875\n",
      "Epoch 71/100\n",
      "100/100 [==============================] - ETA: 0s - loss: 0.9081 - accuracy: 0.6650\n",
      "Epoch 00071: val_accuracy did not improve from 0.60000\n",
      "100/100 [==============================] - 125s 1s/step - loss: 0.9081 - accuracy: 0.6650 - val_loss: 1.2123 - val_accuracy: 0.5412\n",
      "Epoch 72/100\n",
      "100/100 [==============================] - ETA: 0s - loss: 0.8795 - accuracy: 0.6747\n",
      "Epoch 00072: val_accuracy did not improve from 0.60000\n",
      "100/100 [==============================] - 109s 1s/step - loss: 0.8795 - accuracy: 0.6747 - val_loss: 1.2099 - val_accuracy: 0.5631\n",
      "Epoch 73/100\n",
      "100/100 [==============================] - ETA: 0s - loss: 0.8661 - accuracy: 0.6901\n",
      "Epoch 00073: val_accuracy improved from 0.60000 to 0.60250, saving model to model1B.epoch73-accuracy0.60.hdf5\n",
      "100/100 [==============================] - 130s 1s/step - loss: 0.8661 - accuracy: 0.6901 - val_loss: 1.0821 - val_accuracy: 0.6025\n",
      "Epoch 74/100\n",
      "100/100 [==============================] - ETA: 0s - loss: 0.8527 - accuracy: 0.6794\n",
      "Epoch 00074: val_accuracy did not improve from 0.60250\n",
      "100/100 [==============================] - 103s 1s/step - loss: 0.8527 - accuracy: 0.6794 - val_loss: 1.2565 - val_accuracy: 0.5450\n",
      "Epoch 75/100\n",
      "100/100 [==============================] - ETA: 0s - loss: 0.8424 - accuracy: 0.6944\n",
      "Epoch 00075: val_accuracy did not improve from 0.60250\n",
      "100/100 [==============================] - 134s 1s/step - loss: 0.8424 - accuracy: 0.6944 - val_loss: 1.2332 - val_accuracy: 0.5612\n",
      "Epoch 76/100\n",
      "100/100 [==============================] - ETA: 0s - loss: 0.8678 - accuracy: 0.6769\n",
      "Epoch 00076: val_accuracy did not improve from 0.60250\n",
      "100/100 [==============================] - 119s 1s/step - loss: 0.8678 - accuracy: 0.6769 - val_loss: 1.3052 - val_accuracy: 0.5169\n",
      "Epoch 77/100\n",
      "100/100 [==============================] - ETA: 0s - loss: 0.8553 - accuracy: 0.6778\n",
      "Epoch 00077: val_accuracy did not improve from 0.60250\n",
      "100/100 [==============================] - 107s 1s/step - loss: 0.8553 - accuracy: 0.6778 - val_loss: 1.1360 - val_accuracy: 0.5888\n",
      "Epoch 78/100\n",
      "100/100 [==============================] - ETA: 0s - loss: 0.8476 - accuracy: 0.6756\n",
      "Epoch 00078: val_accuracy did not improve from 0.60250\n",
      "100/100 [==============================] - 129s 1s/step - loss: 0.8476 - accuracy: 0.6756 - val_loss: 1.2170 - val_accuracy: 0.5725\n",
      "Epoch 79/100\n",
      "100/100 [==============================] - ETA: 0s - loss: 0.7874 - accuracy: 0.7041\n",
      "Epoch 00079: val_accuracy did not improve from 0.60250\n",
      "100/100 [==============================] - 94s 933ms/step - loss: 0.7874 - accuracy: 0.7041 - val_loss: 1.2154 - val_accuracy: 0.5688\n",
      "Epoch 80/100\n",
      "100/100 [==============================] - ETA: 0s - loss: 0.8175 - accuracy: 0.6959\n",
      "Epoch 00080: val_accuracy did not improve from 0.60250\n",
      "100/100 [==============================] - 133s 1s/step - loss: 0.8175 - accuracy: 0.6959 - val_loss: 1.1853 - val_accuracy: 0.5888\n",
      "Epoch 81/100\n",
      "100/100 [==============================] - ETA: 0s - loss: 0.8045 - accuracy: 0.7000\n",
      "Epoch 00081: val_accuracy improved from 0.60250 to 0.60812, saving model to model1B.epoch81-accuracy0.61.hdf5\n",
      "100/100 [==============================] - 134s 1s/step - loss: 0.8045 - accuracy: 0.7000 - val_loss: 1.1324 - val_accuracy: 0.6081\n",
      "Epoch 82/100\n",
      "100/100 [==============================] - ETA: 0s - loss: 0.8042 - accuracy: 0.7041\n",
      "Epoch 00082: val_accuracy did not improve from 0.60812\n",
      "100/100 [==============================] - 125s 1s/step - loss: 0.8042 - accuracy: 0.7041 - val_loss: 1.2817 - val_accuracy: 0.5569\n",
      "Epoch 83/100\n",
      "100/100 [==============================] - ETA: 0s - loss: 0.7691 - accuracy: 0.7156\n",
      "Epoch 00083: val_accuracy did not improve from 0.60812\n",
      "100/100 [==============================] - 104s 1s/step - loss: 0.7691 - accuracy: 0.7156 - val_loss: 1.1924 - val_accuracy: 0.5719\n",
      "Epoch 84/100\n",
      "100/100 [==============================] - ETA: 0s - loss: 0.7735 - accuracy: 0.7094\n",
      "Epoch 00084: val_accuracy did not improve from 0.60812\n",
      "100/100 [==============================] - 123s 1s/step - loss: 0.7735 - accuracy: 0.7094 - val_loss: 1.3463 - val_accuracy: 0.5481\n",
      "Epoch 85/100\n",
      "100/100 [==============================] - ETA: 0s - loss: 0.7863 - accuracy: 0.7072\n",
      "Epoch 00085: val_accuracy did not improve from 0.60812\n",
      "100/100 [==============================] - 133s 1s/step - loss: 0.7863 - accuracy: 0.7072 - val_loss: 1.1668 - val_accuracy: 0.5763\n",
      "Epoch 86/100\n",
      "100/100 [==============================] - ETA: 0s - loss: 0.8323 - accuracy: 0.6850\n",
      "Epoch 00086: val_accuracy did not improve from 0.60812\n",
      "100/100 [==============================] - 134s 1s/step - loss: 0.8323 - accuracy: 0.6850 - val_loss: 1.1532 - val_accuracy: 0.5681\n",
      "Epoch 87/100\n",
      "100/100 [==============================] - ETA: 0s - loss: 0.7634 - accuracy: 0.7139\n",
      "Epoch 00087: val_accuracy did not improve from 0.60812\n",
      "100/100 [==============================] - 133s 1s/step - loss: 0.7634 - accuracy: 0.7139 - val_loss: 1.1476 - val_accuracy: 0.5869\n",
      "Epoch 88/100\n",
      "100/100 [==============================] - ETA: 0s - loss: 0.7906 - accuracy: 0.7106\n",
      "Epoch 00088: val_accuracy did not improve from 0.60812\n",
      "100/100 [==============================] - 131s 1s/step - loss: 0.7906 - accuracy: 0.7106 - val_loss: 1.1745 - val_accuracy: 0.5763\n",
      "Epoch 89/100\n",
      "100/100 [==============================] - ETA: 0s - loss: 0.7231 - accuracy: 0.7341\n",
      "Epoch 00089: val_accuracy did not improve from 0.60812\n",
      "100/100 [==============================] - 85s 841ms/step - loss: 0.7231 - accuracy: 0.7341 - val_loss: 1.2895 - val_accuracy: 0.5612\n",
      "Epoch 90/100\n",
      "100/100 [==============================] - ETA: 0s - loss: 0.7231 - accuracy: 0.7321\n",
      "Epoch 00090: val_accuracy did not improve from 0.60812\n",
      "100/100 [==============================] - 110s 1s/step - loss: 0.7231 - accuracy: 0.7321 - val_loss: 1.1038 - val_accuracy: 0.5900\n",
      "Epoch 91/100\n",
      "100/100 [==============================] - ETA: 0s - loss: 0.7510 - accuracy: 0.7272\n",
      "Epoch 00091: val_accuracy did not improve from 0.60812\n",
      "100/100 [==============================] - 131s 1s/step - loss: 0.7510 - accuracy: 0.7272 - val_loss: 1.2812 - val_accuracy: 0.5494\n",
      "Epoch 92/100\n",
      "100/100 [==============================] - ETA: 0s - loss: 0.7316 - accuracy: 0.7341\n",
      "Epoch 00092: val_accuracy did not improve from 0.60812\n",
      "100/100 [==============================] - 134s 1s/step - loss: 0.7316 - accuracy: 0.7341 - val_loss: 1.2432 - val_accuracy: 0.5494\n",
      "Epoch 93/100\n",
      "100/100 [==============================] - ETA: 0s - loss: 0.7648 - accuracy: 0.7211\n",
      "Epoch 00093: val_accuracy did not improve from 0.60812\n",
      "100/100 [==============================] - 133s 1s/step - loss: 0.7648 - accuracy: 0.7211 - val_loss: 1.1240 - val_accuracy: 0.5994\n",
      "Epoch 94/100\n",
      "100/100 [==============================] - ETA: 0s - loss: 0.6967 - accuracy: 0.7406\n",
      "Epoch 00094: val_accuracy did not improve from 0.60812\n",
      "100/100 [==============================] - 133s 1s/step - loss: 0.6967 - accuracy: 0.7406 - val_loss: 1.1410 - val_accuracy: 0.5894\n",
      "Epoch 95/100\n",
      "100/100 [==============================] - ETA: 0s - loss: 0.7316 - accuracy: 0.7337\n",
      "Epoch 00095: val_accuracy did not improve from 0.60812\n",
      "100/100 [==============================] - 132s 1s/step - loss: 0.7316 - accuracy: 0.7337 - val_loss: 1.1819 - val_accuracy: 0.5850\n",
      "Epoch 96/100\n",
      "100/100 [==============================] - ETA: 0s - loss: 0.7018 - accuracy: 0.7440\n",
      "Epoch 00096: val_accuracy did not improve from 0.60812\n",
      "100/100 [==============================] - 96s 957ms/step - loss: 0.7018 - accuracy: 0.7440 - val_loss: 1.2568 - val_accuracy: 0.5756\n",
      "Epoch 97/100\n",
      "100/100 [==============================] - ETA: 0s - loss: 0.7133 - accuracy: 0.7409\n",
      "Epoch 00097: val_accuracy did not improve from 0.60812\n",
      "100/100 [==============================] - 136s 1s/step - loss: 0.7133 - accuracy: 0.7409 - val_loss: 1.1963 - val_accuracy: 0.5913\n",
      "Epoch 98/100\n",
      "100/100 [==============================] - ETA: 0s - loss: 0.6932 - accuracy: 0.7459\n",
      "Epoch 00098: val_accuracy did not improve from 0.60812\n",
      "100/100 [==============================] - 131s 1s/step - loss: 0.6932 - accuracy: 0.7459 - val_loss: 1.2102 - val_accuracy: 0.5800\n",
      "Epoch 99/100\n",
      "100/100 [==============================] - ETA: 0s - loss: 0.6504 - accuracy: 0.7550\n",
      "Epoch 00099: val_accuracy did not improve from 0.60812\n",
      "100/100 [==============================] - 128s 1s/step - loss: 0.6504 - accuracy: 0.7550 - val_loss: 1.2419 - val_accuracy: 0.5894\n",
      "Epoch 100/100\n",
      "100/100 [==============================] - ETA: 0s - loss: 0.6916 - accuracy: 0.7493\n",
      "Epoch 00100: val_accuracy did not improve from 0.60812\n",
      "100/100 [==============================] - 91s 903ms/step - loss: 0.6916 - accuracy: 0.7493 - val_loss: 1.3131 - val_accuracy: 0.5450\n"
     ]
    }
   ],
   "source": [
    "history = model1.fit(\n",
    "    train_ds,\n",
    "    epochs=epochs,\n",
    "    steps_per_epoch=100,\n",
    "    validation_data=valid_ds,\n",
    "    validation_steps=50,\n",
    "    callbacks=[TqdmCallback(), checkpoint],\n",
    "    verbose=1,\n",
    ")"
   ]
  },
  {
   "cell_type": "code",
   "execution_count": 46,
   "metadata": {},
   "outputs": [],
   "source": [
    "model_json = model1.to_json()\n",
    "with open(\"model1B.json\", \"w\") as yaml_file:\n",
    "    yaml_file.write(model_json)\n",
    "    \n",
    "model1.save(\"model1B.h5\")"
   ]
  },
  {
   "cell_type": "code",
   "execution_count": 47,
   "metadata": {},
   "outputs": [],
   "source": [
    "def summarize_diagnostics(history):\n",
    "    \n",
    "    figure = plt.figure(figsize=(8,8))\n",
    "            \n",
    "    # plot loss\n",
    "    plt.subplot(211)\n",
    "    plt.title('Cross Entropy Loss')\n",
    "    plt.plot(history.history['loss'], color='blue', label='train')\n",
    "    plt.plot(history.history['val_loss'], color='orange', label='val')\n",
    "    plt.legend()\n",
    "    \n",
    "    # plot accuracy\n",
    "    plt.subplot(212)\n",
    "    plt.title('Classification Accuracy')\n",
    "    plt.plot(history.history['accuracy'], color='blue', label='train')\n",
    "    plt.plot(history.history['val_accuracy'], color='orange', label='val')\n",
    "    plt.legend()\n",
    "    \n",
    "    # save plot to file\n",
    "    #filename = sys.argv[0].split('/')[-1]\n",
    "    #plt.savefig(filename + '_plot.png')\n",
    "    #plt.close()\n",
    "    \n",
    "    plt.tight_layout(pad=1.0)"
   ]
  },
  {
   "cell_type": "code",
   "execution_count": 48,
   "metadata": {},
   "outputs": [
    {
     "data": {
      "image/png": "[encoded data removed]",
      "text/plain": [
       "<Figure size 576x576 with 2 Axes>"
      ]
     },
     "metadata": {
      "needs_background": "light"
     },
     "output_type": "display_data"
    }
   ],
   "source": [
    "summarize_diagnostics(history)"
   ]
  },
  {
   "cell_type": "code",
   "execution_count": null,
   "metadata": {},
   "outputs": [],
   "source": []
  }
 ],
 "metadata": {
  "kernelspec": {
   "display_name": "Python 3",
   "language": "python",
   "name": "python3"
  },
  "language_info": {
   "codemirror_mode": {
    "name": "ipython",
    "version": 3
   },
   "file_extension": ".py",
   "mimetype": "text/x-python",
   "name": "python",
   "nbconvert_exporter": "python",
   "pygments_lexer": "ipython3",
   "version": "3.8.10"
  }
 },
 "nbformat": 4,
 "nbformat_minor": 4
}
